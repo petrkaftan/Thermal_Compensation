{
 "cells": [
  {
   "cell_type": "markdown",
   "metadata": {},
   "source": [
    "Imports"
   ]
  },
  {
   "cell_type": "code",
   "execution_count": 1,
   "metadata": {},
   "outputs": [],
   "source": [
    "import pandas as pd\n",
    "import numpy as np\n",
    "import data_loader as m\n",
    "import thermal_compensation as TC"
   ]
  },
  {
   "cell_type": "markdown",
   "metadata": {},
   "source": [
    "User Inputs"
   ]
  },
  {
   "cell_type": "code",
   "execution_count": 2,
   "metadata": {},
   "outputs": [],
   "source": [
    "machine = 'SwissDECO'\n",
    "\n",
    "trainingNumber = 4\n",
    "\n",
    "trainingDate = '2023.05.02'\n",
    "\n",
    "errorName = 'X1-2'\n",
    "\n",
    "bad_machineTemperatures_sensors = ['S1 - Casting','NC','Main Gang 3','Turret','S11 - Casting','Spindle Area','Main Gang 2','Turret - Back 2','S41 - Top', 'S41 - Rear 1', 'S41 - Rear 2', 'S41 - Bottom 1', 'S41 - Bottom 2', 'S41 - Radial Tool', 'S41 - T411', 'S41 - T414','S41 - T65', 'S41 - T68','Room Temperature', 'Cooling', 'S1 - Bottom']\n",
    "\n",
    "uncorrelated_motorsTemperatures_sensors = ['S1', 'S11', 'S21', 'S4', 'S41']\n",
    "\n",
    "ballScrewsNames = ['X1-BS','X2-BS','Z2-BS','Y4-BS','Z4-BS']\n",
    "\n",
    "train_start = 0\n",
    "train_end   = 399\n",
    "pred_start  = train_end+1\n",
    "\n",
    "e_threshold   = 10  # User requirements for accuracy\n",
    "std_threshold = 25  # User tolerance for uncertainty\n",
    "N_skip        = 2   # Improvement in efficiency by lowering number of measurements\n"
   ]
  },
  {
   "cell_type": "markdown",
   "metadata": {},
   "source": [
    "Load Data"
   ]
  },
  {
   "cell_type": "code",
   "execution_count": null,
   "metadata": {},
   "outputs": [],
   "source": [
    "errors = m.Measurement('errors',trainingNumber,trainingDate,machine)\n",
    "errors.load_measurement(errorName,zero_normalize=True)\n",
    "global_time = errors.get_global_time()\n",
    "\n",
    "ballScrews = m.Measurement('errors',trainingNumber,trainingDate,machine)\n",
    "ballScrews.load_measurement(ballScrewsNames,zero_normalize=True)\n",
    "\n",
    "machineTemperatures = m.Measurement('machineTemperatures',trainingNumber,trainingDate,machine)\n",
    "machineTemperatures.load_measurement(global_time=global_time,remove_sensors=bad_machineTemperatures_sensors,zero_normalize=True)\n",
    "\n",
    "motorsTemperatures =  m.Measurement('motorsTemperatures',trainingNumber,trainingDate,machine)\n",
    "motorsTemperatures.load_measurement(global_time=global_time,zero_normalize=True)\n"
   ]
  },
  {
   "cell_type": "markdown",
   "metadata": {},
   "source": [
    "Smooth"
   ]
  },
  {
   "cell_type": "code",
   "execution_count": 4,
   "metadata": {},
   "outputs": [],
   "source": [
    "errors.smooth()\n",
    "machineTemperatures.smooth()\n",
    "motorsTemperatures.smooth()"
   ]
  },
  {
   "cell_type": "markdown",
   "metadata": {},
   "source": [
    "Create datasets"
   ]
  },
  {
   "cell_type": "code",
   "execution_count": 5,
   "metadata": {},
   "outputs": [],
   "source": [
    "df_X = pd.concat((machineTemperatures.df,motorsTemperatures.df),axis=1)\n",
    "df_y = errors.df.to_frame()*1000"
   ]
  },
  {
   "cell_type": "markdown",
   "metadata": {},
   "source": [
    "Thermal Compensation"
   ]
  },
  {
   "cell_type": "code",
   "execution_count": 6,
   "metadata": {},
   "outputs": [],
   "source": [
    "compensation = TC.Thermal_Compensation()\n",
    "compensation.set_train_start(train_start)\n",
    "compensation.set_train_end(train_end)\n",
    "compensation.set_e_threshold(e_threshold)\n",
    "compensation.set_std_threshold(std_threshold)\n",
    "compensation.set_N_skip(N_skip)\n",
    "compensation.append_data(df_X,df_y)"
   ]
  },
  {
   "cell_type": "markdown",
   "metadata": {},
   "source": [
    "Train model"
   ]
  },
  {
   "cell_type": "code",
   "execution_count": null,
   "metadata": {},
   "outputs": [],
   "source": [
    "compensation.train_model()"
   ]
  },
  {
   "cell_type": "markdown",
   "metadata": {},
   "source": [
    "Predict"
   ]
  },
  {
   "cell_type": "code",
   "execution_count": 8,
   "metadata": {},
   "outputs": [],
   "source": [
    "compensation.predict(recalibrations=True)"
   ]
  },
  {
   "cell_type": "markdown",
   "metadata": {},
   "source": [
    "Plot result"
   ]
  },
  {
   "cell_type": "code",
   "execution_count": null,
   "metadata": {},
   "outputs": [],
   "source": [
    "compensation.plot_result()"
   ]
  }
 ],
 "metadata": {
  "kernelspec": {
   "display_name": "Python 3",
   "language": "python",
   "name": "python3"
  },
  "language_info": {
   "codemirror_mode": {
    "name": "ipython",
    "version": 3
   },
   "file_extension": ".py",
   "mimetype": "text/x-python",
   "name": "python",
   "nbconvert_exporter": "python",
   "pygments_lexer": "ipython3",
   "version": "3.9.7"
  }
 },
 "nbformat": 4,
 "nbformat_minor": 2
}
